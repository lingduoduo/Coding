{
 "cells": [
  {
   "cell_type": "markdown",
   "id": "74d58ed9",
   "metadata": {},
   "source": [
    "##  Q1 Prefix"
   ]
  },
  {
   "cell_type": "markdown",
   "id": "71c565b8",
   "metadata": {},
   "source": [
    "搜索query: \"bur\"\n",
    "\n",
    "找到带前缀有“bur”的\n",
    "\n",
    "{\"business_name\": \"Burger King\"}, {\"business_name\": \"Bob’s Burgers\"},  {\"business_name\": \"Super Duper Burgers\"} "
   ]
  },
  {
   "cell_type": "code",
   "execution_count": 2,
   "id": "6b22c7f2",
   "metadata": {},
   "outputs": [
    {
     "name": "stdout",
     "output_type": "stream",
     "text": [
      "[{'business_name': \"Bob's Burgers\"}, {'business_name': 'Super Duper Burgers'}, {'business_name': 'Burger King'}]\n",
      "[{'business_name': 'Burger King'}, {'business_name': \"Bob's Burgers\"}, {'business_name': 'Super Duper Burgers'}]\n"
     ]
    }
   ],
   "source": [
    "raw_data = [\n",
    "\t{\"business_name\": \"McDonald's\"},\n",
    "\t{\"business_name\": \"Bob's Burgers\"},\n",
    "\t{\"business_name\": 'Five Guys'},\n",
    "\t{\"business_name\": 'Super Duper Burgers'},\n",
    "\t{\"business_name\": 'Burger King'},\n",
    "\t{\"business_name\": 'Wahlburgers'},\n",
    "]\n",
    "\n",
    "def get_prefix(data, k):\n",
    "\tres = []\n",
    "\tfor item in data:\n",
    "\t\tif k == 0:\n",
    "\t\t\tbreak\n",
    "\t\tname = item['business_name']\n",
    "\t\tname_arr = name.lower().split(' ')\n",
    "\t\tfor child_name in name_arr:\n",
    "\t\t\tif child_name.startswith('bur'):\n",
    "\t\t\t\tres.append(item)\n",
    "\t\t\t\tk -= 1\n",
    "\t\t\t\tbreak\n",
    "\tprint(res)\n",
    "\tres.sort(key=lambda x: x['business_name'].lower().index('bur'))\n",
    "\treturn res\n",
    "\n",
    "print(get_prefix(raw_data, 3))"
   ]
  },
  {
   "cell_type": "code",
   "execution_count": 1,
   "id": "40d51b17",
   "metadata": {},
   "outputs": [],
   "source": [
    "import pandas as pd"
   ]
  },
  {
   "cell_type": "code",
   "execution_count": 6,
   "id": "c0389aa1",
   "metadata": {},
   "outputs": [
    {
     "data": {
      "text/html": [
       "<div>\n",
       "<style scoped>\n",
       "    .dataframe tbody tr th:only-of-type {\n",
       "        vertical-align: middle;\n",
       "    }\n",
       "\n",
       "    .dataframe tbody tr th {\n",
       "        vertical-align: top;\n",
       "    }\n",
       "\n",
       "    .dataframe thead th {\n",
       "        text-align: right;\n",
       "    }\n",
       "</style>\n",
       "<table border=\"1\" class=\"dataframe\">\n",
       "  <thead>\n",
       "    <tr style=\"text-align: right;\">\n",
       "      <th></th>\n",
       "      <th>business_name</th>\n",
       "    </tr>\n",
       "  </thead>\n",
       "  <tbody>\n",
       "    <tr>\n",
       "      <th>0</th>\n",
       "      <td>McDonald's</td>\n",
       "    </tr>\n",
       "    <tr>\n",
       "      <th>1</th>\n",
       "      <td>Bob's Burgers</td>\n",
       "    </tr>\n",
       "    <tr>\n",
       "      <th>2</th>\n",
       "      <td>Five Guys</td>\n",
       "    </tr>\n",
       "    <tr>\n",
       "      <th>3</th>\n",
       "      <td>Super Duper Burgers</td>\n",
       "    </tr>\n",
       "    <tr>\n",
       "      <th>4</th>\n",
       "      <td>Burger King</td>\n",
       "    </tr>\n",
       "    <tr>\n",
       "      <th>5</th>\n",
       "      <td>Wahlburgers</td>\n",
       "    </tr>\n",
       "  </tbody>\n",
       "</table>\n",
       "</div>"
      ],
      "text/plain": [
       "         business_name\n",
       "0           McDonald's\n",
       "1        Bob's Burgers\n",
       "2            Five Guys\n",
       "3  Super Duper Burgers\n",
       "4          Burger King\n",
       "5          Wahlburgers"
      ]
     },
     "execution_count": 6,
     "metadata": {},
     "output_type": "execute_result"
    }
   ],
   "source": [
    "df = pd.DataFrame(raw_data)\n",
    "df"
   ]
  },
  {
   "cell_type": "code",
   "execution_count": 19,
   "id": "8ffbe222",
   "metadata": {},
   "outputs": [],
   "source": [
    "def find_chr(names, cha):\n",
    "    for name in names.split(\" \"):\n",
    "        if name.startswith(cha):\n",
    "            return True\n",
    "    return False"
   ]
  },
  {
   "cell_type": "code",
   "execution_count": 22,
   "id": "9dd93c0a",
   "metadata": {},
   "outputs": [
    {
     "data": {
      "text/html": [
       "<div>\n",
       "<style scoped>\n",
       "    .dataframe tbody tr th:only-of-type {\n",
       "        vertical-align: middle;\n",
       "    }\n",
       "\n",
       "    .dataframe tbody tr th {\n",
       "        vertical-align: top;\n",
       "    }\n",
       "\n",
       "    .dataframe thead th {\n",
       "        text-align: right;\n",
       "    }\n",
       "</style>\n",
       "<table border=\"1\" class=\"dataframe\">\n",
       "  <thead>\n",
       "    <tr style=\"text-align: right;\">\n",
       "      <th></th>\n",
       "      <th>business_name</th>\n",
       "    </tr>\n",
       "  </thead>\n",
       "  <tbody>\n",
       "    <tr>\n",
       "      <th>1</th>\n",
       "      <td>Bob's Burgers</td>\n",
       "    </tr>\n",
       "    <tr>\n",
       "      <th>3</th>\n",
       "      <td>Super Duper Burgers</td>\n",
       "    </tr>\n",
       "    <tr>\n",
       "      <th>4</th>\n",
       "      <td>Burger King</td>\n",
       "    </tr>\n",
       "  </tbody>\n",
       "</table>\n",
       "</div>"
      ],
      "text/plain": [
       "         business_name\n",
       "1        Bob's Burgers\n",
       "3  Super Duper Burgers\n",
       "4          Burger King"
      ]
     },
     "execution_count": 22,
     "metadata": {},
     "output_type": "execute_result"
    }
   ],
   "source": [
    "df[df['business_name'].str.lower().apply(lambda x: find_chr(x, \"bur\"))]"
   ]
  },
  {
   "cell_type": "code",
   "execution_count": 5,
   "id": "b95346ea",
   "metadata": {},
   "outputs": [
    {
     "name": "stdout",
     "output_type": "stream",
     "text": [
      "[{'business_name': \"Bob's Burgers\"}, {'business_name': 'Super Duper Burgers'}, {'business_name': 'Burger King'}, {'business_name': 'Wahlburgers'}]\n"
     ]
    }
   ],
   "source": [
    "raw_data = [\n",
    "\t{\"business_name\": \"McDonald's\"},\n",
    "\t{\"business_name\": \"Bob's Burgers\"},\n",
    "\t{\"business_name\": 'Five Guys'},\n",
    "\t{\"business_name\": 'Super Duper Burgers'},\n",
    "\t{\"business_name\": 'Burger King'},\n",
    "\t{\"business_name\": 'Wahlburgers'},\n",
    "]\n",
    "\n",
    "def get_prefix(data):\n",
    "\tres = []\n",
    "\tfor item in data:\n",
    "\t\tname = item['business_name']\n",
    "\t\tname_arr = name.lower().split(' ')\n",
    "\t\tfor child_name in name_arr:\n",
    "\t\t\tif 'bur' in child_name:\n",
    "\t\t\t\tres.append(item)\n",
    "\t\t\t\tbreak\n",
    "\treturn res\n",
    "\n",
    "print(get_prefix(raw_data))"
   ]
  },
  {
   "cell_type": "markdown",
   "id": "973b9b58",
   "metadata": {},
   "source": [
    "## Trie - Leetcode 208"
   ]
  },
  {
   "cell_type": "code",
   "execution_count": 61,
   "id": "b981dd86",
   "metadata": {},
   "outputs": [],
   "source": [
    "class Trie:\n",
    "\n",
    "    def __init__(self):\n",
    "        self.d = {}\n",
    "\n",
    "    def insert(self, word: str) -> None:\n",
    "        d = self.d\n",
    "        for cha in word:\n",
    "            if cha not in d:\n",
    "                d[cha] = {}\n",
    "            d = d[cha]\n",
    "        d['#'] = True\n",
    "                \n",
    "\n",
    "    def search(self, word: str) -> bool:\n",
    "        d = self.d\n",
    "        for cha in word:\n",
    "            if cha in d:\n",
    "                d = d[cha]\n",
    "            else:\n",
    "                return False\n",
    "        return '#' in d\n",
    "        \n",
    "\n",
    "    def startsWith(self, prefix: str) -> bool:\n",
    "        d = self.d\n",
    "        for cha in prefix:\n",
    "            if cha in d:\n",
    "                d = d[cha]\n",
    "            else:\n",
    "                return False\n",
    "        return True\n",
    "\n",
    "\n",
    "# Your Trie object will be instantiated and called as such:\n",
    "# obj = Trie()\n",
    "# obj.insert(word)\n",
    "# param_2 = obj.search(word)\n",
    "# param_3 = obj.startsWith(prefix)"
   ]
  },
  {
   "cell_type": "code",
   "execution_count": 66,
   "id": "f9926a68",
   "metadata": {},
   "outputs": [
    {
     "data": {
      "text/plain": [
       "True"
      ]
     },
     "execution_count": 66,
     "metadata": {},
     "output_type": "execute_result"
    }
   ],
   "source": [
    "trie = Trie()\n",
    "\n",
    "trie.insert(\"McDonald's\")\n",
    "trie.search(\"McDonald's\")\n",
    "trie.startsWith(\"McDonald's\")"
   ]
  },
  {
   "cell_type": "code",
   "execution_count": 84,
   "id": "94a1605e",
   "metadata": {},
   "outputs": [],
   "source": [
    "trie = Trie()\n",
    "def insert_words(word):\n",
    "    names = word.split(\" \")\n",
    "    for name in names:\n",
    "        trie.insert(name)"
   ]
  },
  {
   "cell_type": "code",
   "execution_count": 85,
   "id": "bc325919",
   "metadata": {},
   "outputs": [
    {
     "data": {
      "text/plain": [
       "0    None\n",
       "1    None\n",
       "2    None\n",
       "3    None\n",
       "4    None\n",
       "5    None\n",
       "Name: business_name, dtype: object"
      ]
     },
     "execution_count": 85,
     "metadata": {},
     "output_type": "execute_result"
    }
   ],
   "source": [
    "df['business_name'].apply(lambda x: insert_words(x))"
   ]
  },
  {
   "cell_type": "code",
   "execution_count": 88,
   "id": "945e8455",
   "metadata": {},
   "outputs": [
    {
     "data": {
      "text/plain": [
       "True"
      ]
     },
     "execution_count": 88,
     "metadata": {},
     "output_type": "execute_result"
    }
   ],
   "source": [
    "trie.search(\"McDonald's\")\n",
    "trie.startsWith(\"McDonald's\")"
   ]
  },
  {
   "cell_type": "code",
   "execution_count": 93,
   "id": "9b3cb1b7",
   "metadata": {},
   "outputs": [],
   "source": [
    "def find_chr(names, cha):\n",
    "    for name in names.split(\" \"):\n",
    "        if trie.startsWith(cha):\n",
    "            return True\n",
    "    return False"
   ]
  },
  {
   "cell_type": "code",
   "execution_count": 98,
   "id": "df8da007",
   "metadata": {},
   "outputs": [
    {
     "data": {
      "text/html": [
       "<div>\n",
       "<style scoped>\n",
       "    .dataframe tbody tr th:only-of-type {\n",
       "        vertical-align: middle;\n",
       "    }\n",
       "\n",
       "    .dataframe tbody tr th {\n",
       "        vertical-align: top;\n",
       "    }\n",
       "\n",
       "    .dataframe thead th {\n",
       "        text-align: right;\n",
       "    }\n",
       "</style>\n",
       "<table border=\"1\" class=\"dataframe\">\n",
       "  <thead>\n",
       "    <tr style=\"text-align: right;\">\n",
       "      <th></th>\n",
       "      <th>business_name</th>\n",
       "    </tr>\n",
       "  </thead>\n",
       "  <tbody>\n",
       "    <tr>\n",
       "      <th>1</th>\n",
       "      <td>Bob's Burgers</td>\n",
       "    </tr>\n",
       "    <tr>\n",
       "      <th>3</th>\n",
       "      <td>Super Duper Burgers</td>\n",
       "    </tr>\n",
       "    <tr>\n",
       "      <th>4</th>\n",
       "      <td>Burger King</td>\n",
       "    </tr>\n",
       "  </tbody>\n",
       "</table>\n",
       "</div>"
      ],
      "text/plain": [
       "         business_name\n",
       "1        Bob's Burgers\n",
       "3  Super Duper Burgers\n",
       "4          Burger King"
      ]
     },
     "execution_count": 98,
     "metadata": {},
     "output_type": "execute_result"
    }
   ],
   "source": [
    "df[df['business_name'].apply(lambda x: find_chr(x.lower(), \"bur\"))]"
   ]
  },
  {
   "cell_type": "markdown",
   "id": "b1ba572f",
   "metadata": {},
   "source": [
    "## Q2 - Top K freq words"
   ]
  },
  {
   "cell_type": "code",
   "execution_count": 8,
   "id": "9cd804a4",
   "metadata": {},
   "outputs": [],
   "source": [
    "def topKFrequent(words, k):\n",
    "    if k <= 0:\n",
    "        return []\n",
    "    word_map = {}\n",
    "    for word in words:\n",
    "        word_map[word] = word_map.get(word, 0) + 1\n",
    "    word_list = list(word_map.keys())\n",
    "    word_list.sort(key=lambda word: (-word_map[word], word)) # sort by frequency and then by dictionary order\n",
    "    return word_list[:k]"
   ]
  },
  {
   "cell_type": "code",
   "execution_count": 25,
   "id": "510d8036",
   "metadata": {},
   "outputs": [],
   "source": [
    "words = [\"the\", \"day\", \"is\", \"sunny\", \"the\", \"the\", \"the\", \"sunny\", \"is\", \"is\"]\n",
    "k = 4"
   ]
  },
  {
   "cell_type": "code",
   "execution_count": 10,
   "id": "ec7bca0e",
   "metadata": {},
   "outputs": [
    {
     "data": {
      "text/plain": [
       "['the', 'is', 'sunny', 'day']"
      ]
     },
     "execution_count": 10,
     "metadata": {},
     "output_type": "execute_result"
    }
   ],
   "source": [
    "topKFrequent(words, k)"
   ]
  },
  {
   "cell_type": "code",
   "execution_count": 23,
   "id": "4b653592",
   "metadata": {},
   "outputs": [],
   "source": [
    "import collections"
   ]
  },
  {
   "cell_type": "code",
   "execution_count": 43,
   "id": "b1b66948",
   "metadata": {},
   "outputs": [
    {
     "data": {
      "text/plain": [
       "('the', 'is', 'sunny', 'day')"
      ]
     },
     "execution_count": 43,
     "metadata": {},
     "output_type": "execute_result"
    }
   ],
   "source": [
    "freq = collections.Counter(words)\n",
    "res = sorted(freq.items(), key=lambda x: -x[1])\n",
    "[num for num in zip(*res)][0]"
   ]
  },
  {
   "cell_type": "code",
   "execution_count": 80,
   "id": "4cf1a724",
   "metadata": {},
   "outputs": [
    {
     "name": "stdout",
     "output_type": "stream",
     "text": [
      "{'A': {'great'}}\n",
      "{'A': {'great1', 'great'}}\n",
      "{'A': {'great2', 'great1', 'great'}}\n",
      "{'A': {'great2', 'great1', 'great'}, 'B': {'great3'}}\n",
      "{'A': {'great2', 'great1', 'great'}, 'B': {'great4', 'great3'}}\n",
      "{'A': {'great2', 'great1', 'great'}, 'B': {'great5', 'great4', 'great3'}}\n",
      "{'A': {'great2', 'great1', 'great'}, 'B': {'great5', 'great4', 'great3'}, 'C': {'great5'}}\n",
      "{'A': {'great2', 'great1', 'great'}, 'B': {'great5', 'great4', 'great3'}, 'C': {'great5'}}\n",
      "['A', 'B']\n"
     ]
    }
   ],
   "source": [
    "class Love:\n",
    "    def __init__(self, s, r, m):\n",
    "        self.sender = s\n",
    "        self.receiver = r\n",
    "        self.message = m\n",
    "\n",
    "def topKLoveMessage(input, k):\n",
    "    if k <= 0:\n",
    "        return []\n",
    "    d = {}\n",
    "    for love in input:\n",
    "        if not love:\n",
    "            continue\n",
    "        d[love.sender] = d.get(love.sender, set()).union({love.receiver})\n",
    "        print(d)\n",
    "    res = list(d.keys())\n",
    "    res.sort(key=lambda x: (-len(d[x]), x))\n",
    "    return res[:k]\n",
    "\n",
    "input = [\n",
    "    Love('A', 'great', 'X'),\n",
    "    Love('A', 'great1', 'X'),\n",
    "    Love('A', 'great2', 'X'),\n",
    "    Love('B', 'great3', 'X'),\n",
    "    Love('B', 'great4', 'Y'),\n",
    "    Love('B', 'great5', 'Z'),\n",
    "    Love('C', 'great5', 'X'),\n",
    "    Love('C', 'great5', 'Y'),\n",
    "]\n",
    "\n",
    "print(topKLoveMessage(input, 2))\n"
   ]
  },
  {
   "cell_type": "code",
   "execution_count": 76,
   "id": "57bf3108",
   "metadata": {},
   "outputs": [],
   "source": [
    "def topKLoveMessage2(input, k):\n",
    "    if k <= 0:\n",
    "        return []\n",
    "    d = {}\n",
    "    for love in input:\n",
    "        if not love:\n",
    "            continue\n",
    "        d[love.sender] = d.get(love.sender, set()).union({love.message})\n",
    "        print(d)\n",
    "    res = list(d.keys())\n",
    "    res.sort(key=lambda x: (-len(d[x]), x))\n",
    "    return res[:k]"
   ]
  },
  {
   "cell_type": "code",
   "execution_count": 77,
   "id": "fbeadea5",
   "metadata": {},
   "outputs": [
    {
     "name": "stdout",
     "output_type": "stream",
     "text": [
      "{'A': {'X'}}\n",
      "{'A': {'X'}}\n",
      "{'A': {'X'}}\n",
      "{'A': {'X'}, 'B': {'X'}}\n",
      "{'A': {'X'}, 'B': {'X', 'Y'}}\n",
      "{'A': {'X'}, 'B': {'X', 'Z', 'Y'}}\n",
      "{'A': {'X'}, 'B': {'X', 'Z', 'Y'}, 'C': {'X'}}\n",
      "{'A': {'X'}, 'B': {'X', 'Z', 'Y'}, 'C': {'X', 'Y'}}\n",
      "['B', 'C']\n"
     ]
    }
   ],
   "source": [
    "print(topKLoveMessage2(input, 2))"
   ]
  },
  {
   "cell_type": "markdown",
   "id": "3c1fa6e8",
   "metadata": {},
   "source": [
    "## Leetcode 692"
   ]
  },
  {
   "cell_type": "code",
   "execution_count": 6,
   "id": "199b3888",
   "metadata": {},
   "outputs": [],
   "source": [
    "from typing import List"
   ]
  },
  {
   "cell_type": "code",
   "execution_count": 7,
   "id": "3d2b61d9",
   "metadata": {},
   "outputs": [],
   "source": [
    "class Solution:\n",
    "    def topKFrequent(self, words: List[str], k: int) -> List[str]:\n",
    "        cnt = Counter(words)\n",
    "        heap = [(-freq, word) for word, freq in cnt.items()]\n",
    "        heapify(heap)\n",
    "\n",
    "        return [heappop(heap)[1] for _ in range(k)]"
   ]
  },
  {
   "cell_type": "markdown",
   "id": "580e7326",
   "metadata": {},
   "source": [
    "# Q3 Random match users"
   ]
  },
  {
   "cell_type": "code",
   "execution_count": 13,
   "id": "07a63128",
   "metadata": {},
   "outputs": [],
   "source": [
    "import random\n",
    "\n",
    "# Solution for first question\n",
    "def matchBeans(people):\n",
    "    res = []\n",
    "    for i in range(0, len(people), 2):\n",
    "        if i+1 < len(people):\n",
    "            res.append([people[i], people[i+1]])\n",
    "        else:\n",
    "            res.append([people[i], None])\n",
    "    return res"
   ]
  },
  {
   "cell_type": "code",
   "execution_count": 14,
   "id": "4f3d7b0a",
   "metadata": {},
   "outputs": [],
   "source": [
    "people1 = [\n",
    "    { 'id': 'Alan', 'team': 'a' },\n",
    "    { 'id': 'Da', 'team': 'a' },\n",
    "    { 'id': 'Jen', 'team': 'c' },\n",
    "    { 'id': 'Kevin', 'team': 'd' },\n",
    "    { 'id': 'Neha', 'team': 'm' },\n",
    "    { 'id': 'Rachel', 'team': 'q' },\n",
    "    { 'id': 'Tom', 'team': 'a' },\n",
    "]\n",
    "people2 = [    { 'id': 'Alan', 'team': 'a' },    { 'id': 'Da', 'team': 'a' },]"
   ]
  },
  {
   "cell_type": "code",
   "execution_count": 16,
   "id": "616c01a2",
   "metadata": {},
   "outputs": [
    {
     "name": "stdout",
     "output_type": "stream",
     "text": [
      "[[{'id': 'Alan', 'team': 'a'}, {'id': 'Da', 'team': 'a'}], [{'id': 'Jen', 'team': 'c'}, {'id': 'Kevin', 'team': 'd'}], [{'id': 'Neha', 'team': 'm'}, {'id': 'Rachel', 'team': 'q'}], [{'id': 'Tom', 'team': 'a'}, None]]\n"
     ]
    }
   ],
   "source": [
    "print(matchBeans(people1))"
   ]
  },
  {
   "cell_type": "code",
   "execution_count": 17,
   "id": "76b5e70c",
   "metadata": {},
   "outputs": [
    {
     "name": "stdout",
     "output_type": "stream",
     "text": [
      "[[{'id': 'Alan', 'team': 'a'}, {'id': 'Da', 'team': 'a'}]]\n"
     ]
    }
   ],
   "source": [
    "print(matchBeans(people2))"
   ]
  },
  {
   "cell_type": "code",
   "execution_count": 60,
   "id": "5920c5df",
   "metadata": {},
   "outputs": [
    {
     "data": {
      "text/html": [
       "<div>\n",
       "<style scoped>\n",
       "    .dataframe tbody tr th:only-of-type {\n",
       "        vertical-align: middle;\n",
       "    }\n",
       "\n",
       "    .dataframe tbody tr th {\n",
       "        vertical-align: top;\n",
       "    }\n",
       "\n",
       "    .dataframe thead th {\n",
       "        text-align: right;\n",
       "    }\n",
       "</style>\n",
       "<table border=\"1\" class=\"dataframe\">\n",
       "  <thead>\n",
       "    <tr style=\"text-align: right;\">\n",
       "      <th></th>\n",
       "      <th>id</th>\n",
       "      <th>team</th>\n",
       "    </tr>\n",
       "  </thead>\n",
       "  <tbody>\n",
       "    <tr>\n",
       "      <th>0</th>\n",
       "      <td>Alan</td>\n",
       "      <td>a</td>\n",
       "    </tr>\n",
       "    <tr>\n",
       "      <th>1</th>\n",
       "      <td>Da</td>\n",
       "      <td>a</td>\n",
       "    </tr>\n",
       "    <tr>\n",
       "      <th>2</th>\n",
       "      <td>Jen</td>\n",
       "      <td>c</td>\n",
       "    </tr>\n",
       "    <tr>\n",
       "      <th>3</th>\n",
       "      <td>Kevin</td>\n",
       "      <td>d</td>\n",
       "    </tr>\n",
       "    <tr>\n",
       "      <th>4</th>\n",
       "      <td>Neha</td>\n",
       "      <td>m</td>\n",
       "    </tr>\n",
       "    <tr>\n",
       "      <th>5</th>\n",
       "      <td>Rachel</td>\n",
       "      <td>q</td>\n",
       "    </tr>\n",
       "    <tr>\n",
       "      <th>6</th>\n",
       "      <td>Tom</td>\n",
       "      <td>a</td>\n",
       "    </tr>\n",
       "  </tbody>\n",
       "</table>\n",
       "</div>"
      ],
      "text/plain": [
       "       id team\n",
       "0    Alan    a\n",
       "1      Da    a\n",
       "2     Jen    c\n",
       "3   Kevin    d\n",
       "4    Neha    m\n",
       "5  Rachel    q\n",
       "6     Tom    a"
      ]
     },
     "execution_count": 60,
     "metadata": {},
     "output_type": "execute_result"
    }
   ],
   "source": [
    "pd.DataFrame(people1)"
   ]
  },
  {
   "cell_type": "code",
   "execution_count": 10,
   "id": "94d3fa37",
   "metadata": {},
   "outputs": [
    {
     "name": "stdout",
     "output_type": "stream",
     "text": [
      "{'a': [{'id': 'Alan', 'team': 'a'}, {'id': 'Da', 'team': 'a'}, {'id': 'Tom', 'team': 'a'}], 'c': [{'id': 'Jen', 'team': 'c'}], 'd': [{'id': 'Kevin', 'team': 'd'}], 'm': [{'id': 'Neha', 'team': 'm'}], 'q': [{'id': 'Rachel', 'team': 'q'}]}\n",
      "None\n"
     ]
    }
   ],
   "source": [
    "# Solution for second question\n",
    "def matchBeans(people):\n",
    "    teams = {}\n",
    "    for person in people:\n",
    "        team = person['team']\n",
    "        if team not in teams:\n",
    "            teams[team] = [person]\n",
    "        else:\n",
    "            teams[team].append(person)\n",
    "\n",
    "    pairs = []\n",
    "    for team, members in teams.items():\n",
    "        if len(members) == 1:\n",
    "            pairs.append([members[0], None])\n",
    "        else:\n",
    "            pq = []\n",
    "            for member in members:\n",
    "                other = random.choice([x for x in members if x != member])\n",
    "                score = random.random()\n",
    "                pq.append((score, [member, other]))\n",
    "            random.shuffle(pq)\n",
    "            while pq:\n",
    "                _, pair = pq.pop()\n",
    "                pairs.append(pair)\n",
    "    return pairs\n",
    "\n",
    "people1 = [\n",
    "    { 'id': 'Alan', 'team': 'a' },\n",
    "    { 'id': 'Da', 'team': 'a' },\n",
    "    { 'id': 'Jen', 'team': 'c' },\n",
    "    { 'id': 'Kevin', 'team': 'd' },\n",
    "    { 'id': 'Neha', 'team': 'm' },\n",
    "    { 'id': 'Rachel', 'team': 'q' },\n",
    "    { 'id': 'Tom', 'team': 'a' },\n",
    "]\n",
    "\n",
    "people2 = [    { 'id': 'Alan', 'team': 'a' },    { 'id': 'Da', 'team': 'a' },]\n",
    "\n",
    "print(matchBeans(people1))\n",
    "# Output: [[{'id': 'Da', 'team': 'a'}, {'id': 'Alan', 'team': 'a'}], [{'id': 'Kevin', 'team': 'd'}, {'id': 'Jen"
   ]
  },
  {
   "cell_type": "code",
   "execution_count": 11,
   "id": "645cc0f1",
   "metadata": {},
   "outputs": [
    {
     "data": {
      "text/plain": [
       "1"
      ]
     },
     "execution_count": 11,
     "metadata": {},
     "output_type": "execute_result"
    }
   ],
   "source": [
    "random.choice([1,2,3])"
   ]
  },
  {
   "cell_type": "code",
   "execution_count": 9,
   "id": "3541e23d",
   "metadata": {},
   "outputs": [
    {
     "data": {
      "text/plain": [
       "[5, 4, 1, 3, 2]"
      ]
     },
     "execution_count": 9,
     "metadata": {},
     "output_type": "execute_result"
    }
   ],
   "source": [
    "random.sample([1,2,3,4,5],5)"
   ]
  },
  {
   "cell_type": "code",
   "execution_count": 31,
   "id": "16fd279a",
   "metadata": {},
   "outputs": [],
   "source": [
    "import random\n",
    "\n",
    "def get_user(users, end_indx):\n",
    "    idx = random.randint(0, end_indx)\n",
    "    user = users[idx]\n",
    "    # remove user from the list\n",
    "    users[idx], users[end_indx] = users[end_indx], users[idx]\n",
    "    end_indx -= 1\n",
    "    return user, end_indx\n",
    "\n",
    "def match_beans(users, last_n_pairs):\n",
    "    \"\"\"\n",
    "    Randomly pairs up a list of usernames.\n",
    "\n",
    "    :param users: A non-empty list of unique usernames\n",
    "    :param last_n_pairs: A list of tuples representing pairs from the previous rounds\n",
    "    :returns: A list of tuples representing pairs\n",
    "    e.g. [('Jen', 'Kevin'), ('Alan', 'Rachel'), ('Da', 'Neha')]\n",
    "    \"\"\"\n",
    "    # Validate input\n",
    "    if not users:\n",
    "        return []\n",
    "\n",
    "    # Build history set from last_n_pairs\n",
    "    history = set()\n",
    "    for pair_lst in last_n_pairs:\n",
    "        for pair in pair_lst:\n",
    "            history.add(tuple(sorted(pair)))\n",
    "\n",
    "    output = []\n",
    "    end_indx = len(users) - 1\n",
    "\n",
    "    while end_indx > 0:\n",
    "        # pick user1\n",
    "        user_1, end_indx = get_user(users, end_indx)\n",
    "        # pick user2\n",
    "        user_2, end_indx = get_user(users, end_indx)\n",
    "        pair = tuple(sorted([user_1, user_2]))\n",
    "        if pair not in history:\n",
    "            output.append(pair)\n",
    "            history.add(pair)\n",
    "        else:\n",
    "            end_indx += 2\n",
    "\n",
    "    # check remaining\n",
    "    if end_indx == 0:\n",
    "        output.append((users[0], None))\n",
    "\n",
    "    return output"
   ]
  },
  {
   "cell_type": "code",
   "execution_count": 34,
   "id": "33de7e73",
   "metadata": {},
   "outputs": [
    {
     "name": "stdout",
     "output_type": "stream",
     "text": [
      "[('Jen', 'Kevin'), ('Alan', 'Rachel'), ('Da', 'Neha')]\n"
     ]
    }
   ],
   "source": [
    "last_n_pairs = [('Alan', 'Kevin'), ('Jen', 'Da'), ('Neha', 'Rachel')]\n",
    "\n",
    "test_users = ['Alan', 'Da', 'Jen', 'Kevin', 'Neha', 'Rachel']\n",
    "print(match_beans(test_users, last_n_pairs))"
   ]
  },
  {
   "cell_type": "markdown",
   "id": "f926d871",
   "metadata": {},
   "source": [
    "## Q4 Waiting list"
   ]
  },
  {
   "cell_type": "code",
   "execution_count": 82,
   "id": "0823db81",
   "metadata": {},
   "outputs": [],
   "source": [
    "from typing import List\n",
    "\n",
    "class Node:\n",
    "    def __init__(self, val=None):\n",
    "        self.val = val\n",
    "        self.prev = None\n",
    "        self.next = None\n",
    "\n",
    "class SeatManager:\n",
    "    def __init__(self, n):\n",
    "        self.seat_map = {}\n",
    "        self.head = Node()\n",
    "        self.tail = Node()\n",
    "        self.head.next = self.tail\n",
    "        self.tail.prev = self.head\n",
    "        for i in range(1, n+1):\n",
    "            node = Node(i)\n",
    "            self.seat_map[i] = node\n",
    "            self.add_to_tail(node)\n",
    "\n",
    "    def add_to_tail(self, node):\n",
    "        last_node = self.tail.prev\n",
    "        last_node.next = node\n",
    "        node.prev = last_node\n",
    "        node.next = self.tail\n",
    "        self.tail.prev = node\n",
    "\n",
    "    def remove_node(self, node):\n",
    "        prev_node = node.prev\n",
    "        next_node = node.next\n",
    "        prev_node.next = next_node\n",
    "        next_node.prev = prev_node\n",
    "\n",
    "    def reserve(self):\n",
    "        if self.head.next != self.tail:\n",
    "            node = self.head.next\n",
    "            seat_num = node.val\n",
    "            del self.seat_map[seat_num]\n",
    "            self.remove_node(node)\n",
    "            return seat_num\n",
    "\n",
    "    def unreserve(self, seatNumber):\n",
    "        if seatNumber not in self.seat_map:\n",
    "            node = Node(seatNumber)\n",
    "            self.seat_map[seatNumber] = node\n",
    "            self.add_to_tail(node)\n",
    "        else:\n",
    "            node = self.seat_map[seatNumber]\n",
    "            self.remove_node(node)\n",
    "            self.add_to_tail(node)\n",
    "\n",
    "def find_party(table_size: int, waiting_list: List[dict]) -> str:\n",
    "    waiting_list.sort(key=lambda x: x['waitTime'])\n",
    "    for i, party in enumerate(waiting_list):\n",
    "        if party['size'] <= table_size:\n",
    "            return waiting_list.pop(i)['name']\n",
    "    return None\n"
   ]
  },
  {
   "cell_type": "code",
   "execution_count": 85,
   "id": "9db3ccfc",
   "metadata": {},
   "outputs": [],
   "source": [
    "# Testing the find_party function\n",
    "test1 = [\n",
    "    {'name': 'dog', 'size': 4, 'waitTime': 150},\n",
    "    {'name': 'cat', 'size': 2, 'waitTime': 200},\n",
    "    {'name': 'bird', 'size': 3, 'waitTime': 300}\n",
    "]"
   ]
  },
  {
   "cell_type": "code",
   "execution_count": 86,
   "id": "2020bde1",
   "metadata": {},
   "outputs": [
    {
     "data": {
      "text/plain": [
       "'cat'"
      ]
     },
     "execution_count": 86,
     "metadata": {},
     "output_type": "execute_result"
    }
   ],
   "source": [
    "find_party(3, test1)"
   ]
  },
  {
   "cell_type": "code",
   "execution_count": 87,
   "id": "f9b11690",
   "metadata": {},
   "outputs": [
    {
     "data": {
      "text/plain": [
       "'dog'"
      ]
     },
     "execution_count": 87,
     "metadata": {},
     "output_type": "execute_result"
    }
   ],
   "source": [
    "find_party(4, test1)"
   ]
  },
  {
   "cell_type": "code",
   "execution_count": 48,
   "id": "c9d3def6",
   "metadata": {},
   "outputs": [],
   "source": [
    "from typing import List\n",
    "import collections\n",
    "\n",
    "class Node:\n",
    "    def __init__(self, val=None):\n",
    "        self.val = val\n",
    "        self.prev = None\n",
    "        self.next = None\n",
    "\n",
    "class LRUCache:\n",
    "    def __init__(self, capacity: int):\n",
    "        self.capacity = capacity\n",
    "        self.cache = collections.OrderedDict()\n",
    "\n",
    "    def get(self, key: int) -> int:\n",
    "        if key in self.cache:\n",
    "            self.cache.move_to_end(key)\n",
    "            return self.cache[key]\n",
    "        else:\n",
    "            return -1\n",
    "\n",
    "    def put(self, key: int, value: int) -> None:\n",
    "        if key in self.cache:\n",
    "            self.cache[key] = value\n",
    "            self.cache.move_to_end(key)\n",
    "        else:\n",
    "            self.cache[key] = value\n",
    "            if len(self.cache) > self.capacity:\n",
    "                self.cache.popitem(last=False)\n",
    "\n",
    "class SeatManager:\n",
    "    def __init__(self, n):\n",
    "        self.seat_map = LRUCache(n)\n",
    "        for i in range(1, n+1):\n",
    "            self.seat_map.put(i, True)\n",
    "    \n",
    "    def reserve(self):\n",
    "        seat = next(iter(self.seat_map.cache))\n",
    "        if seat is not None:\n",
    "            del self.seat_map.cache[seat]\n",
    "            return seat\n",
    "        else:\n",
    "            return None\n",
    "\n",
    "    def unreserve(self, seatNumber):\n",
    "        self.seat_map.put(seatNumber, True)"
   ]
  },
  {
   "cell_type": "code",
   "execution_count": 49,
   "id": "aedeb4c7",
   "metadata": {},
   "outputs": [],
   "source": [
    "def find_party(table_size: int, waiting_list: List[dict]) -> str:\n",
    "    waiting_list.sort(key=lambda x: x['waitTime'])\n",
    "    seat_manager = SeatManager(table_size)\n",
    "    for party in waiting_list:\n",
    "        if party['size'] <= table_size:\n",
    "            seat_num = seat_manager.reserve()\n",
    "            if seat_num is None:\n",
    "                break\n",
    "            return party['name']\n",
    "    return None"
   ]
  },
  {
   "cell_type": "code",
   "execution_count": 50,
   "id": "6261311a",
   "metadata": {},
   "outputs": [],
   "source": [
    "# Testing the find_party function\n",
    "test1 = [\n",
    "    {'name': 'dog', 'size': 4, 'waitTime': 150},\n",
    "    {'name': 'cat', 'size': 2, 'waitTime': 200},\n",
    "    {'name': 'bird', 'size': 3, 'waitTime': 300}\n",
    "]"
   ]
  },
  {
   "cell_type": "code",
   "execution_count": 51,
   "id": "16bf7f01",
   "metadata": {},
   "outputs": [
    {
     "data": {
      "text/plain": [
       "'cat'"
      ]
     },
     "execution_count": 51,
     "metadata": {},
     "output_type": "execute_result"
    }
   ],
   "source": [
    "find_party(3, test1)"
   ]
  },
  {
   "cell_type": "code",
   "execution_count": 52,
   "id": "14b09a60",
   "metadata": {},
   "outputs": [
    {
     "data": {
      "text/plain": [
       "'dog'"
      ]
     },
     "execution_count": 52,
     "metadata": {},
     "output_type": "execute_result"
    }
   ],
   "source": [
    "find_party(4, test1)"
   ]
  },
  {
   "cell_type": "markdown",
   "id": "9e3afa5d",
   "metadata": {},
   "source": [
    "## Q5 - 252. Meeting Rooms"
   ]
  },
  {
   "cell_type": "code",
   "execution_count": 53,
   "id": "45f488e1",
   "metadata": {},
   "outputs": [],
   "source": [
    "class Solution:\n",
    "    def canAttendMeetings(self, intervals: List[List[int]]) -> bool:\n",
    "        if len(intervals) <= 1:\n",
    "            return True\n",
    "        intervals = sorted(intervals, key=lambda x: x[0])\n",
    "        prev_start, prev_end = intervals[0]\n",
    "        for start, end in intervals[1:]:\n",
    "            if prev_end > start:\n",
    "                return False\n",
    "            prev_start, prev_end = start, end\n",
    "        return True"
   ]
  },
  {
   "cell_type": "code",
   "execution_count": 54,
   "id": "ac16a2ea",
   "metadata": {},
   "outputs": [
    {
     "data": {
      "text/plain": [
       "False"
      ]
     },
     "execution_count": 54,
     "metadata": {},
     "output_type": "execute_result"
    }
   ],
   "source": [
    "Solution().canAttendMeetings(intervals = [[0,30],[5,10],[15,20]])"
   ]
  },
  {
   "cell_type": "markdown",
   "id": "a1bea07d",
   "metadata": {},
   "source": [
    "## 253. Meeting Rooms II"
   ]
  },
  {
   "cell_type": "markdown",
   "id": "28949480",
   "metadata": {},
   "source": [
    "a list of meeting time interval [start, end]s\n",
    "1. find if there are any overlaps between those intervals``````m\n",
    "2. find the minimum of meeting rooms to hold of those meetings (greedy, sort first, then merge intervals in the same meeting room into one interval, and then use a BST to find by end time when you insert the new‍‍‍‌‌‌‍‍‌‍‍‍‌‍‍‌‍‌‌ intervals)."
   ]
  },
  {
   "cell_type": "code",
   "execution_count": 61,
   "id": "ee4a325c",
   "metadata": {},
   "outputs": [],
   "source": [
    "import heapq"
   ]
  },
  {
   "cell_type": "code",
   "execution_count": 62,
   "id": "7a39080a",
   "metadata": {},
   "outputs": [],
   "source": [
    "class Solution:\n",
    "    def minMeetingRooms(self, intervals: List[List[int]]) -> int:\n",
    "        intervals.sort(key=lambda x: x[0])\n",
    "        l, r = intervals[0]\n",
    "        q = []\n",
    "        heapq.heappush(q, r)\n",
    "        res = 1\n",
    "        for interval in intervals[1:]:\n",
    "            if q is not None and q[0] <= interval[0]:\n",
    "                heapq.heappop(q)\n",
    "                heapq.heappush(q, interval[1])\n",
    "            else:\n",
    "                heapq.heappush(q, interval[1])\n",
    "                res += 1\n",
    "        return res"
   ]
  },
  {
   "cell_type": "code",
   "execution_count": 63,
   "id": "ba6595e1",
   "metadata": {},
   "outputs": [
    {
     "data": {
      "text/plain": [
       "2"
      ]
     },
     "execution_count": 63,
     "metadata": {},
     "output_type": "execute_result"
    }
   ],
   "source": [
    "Solution().minMeetingRooms(intervals = [[0,30],[5,10],[15,20]])"
   ]
  },
  {
   "cell_type": "markdown",
   "id": "86b4ac33",
   "metadata": {},
   "source": [
    "## Q6 - 273. Integer to English Words"
   ]
  },
  {
   "cell_type": "code",
   "execution_count": 64,
   "id": "1ea359a9",
   "metadata": {},
   "outputs": [],
   "source": [
    "class Solution:\n",
    "    def numberToWords(self, num: int) -> str:\n",
    "        \"\"\"\n",
    "        :type num: int\n",
    "        :rtype: str\n",
    "        \"\"\"\n",
    "        def one(num):\n",
    "            switcher = {\n",
    "                1: 'One',\n",
    "                2: 'Two',\n",
    "                3: 'Three',\n",
    "                4: 'Four',\n",
    "                5: 'Five',\n",
    "                6: 'Six',\n",
    "                7: 'Seven',\n",
    "                8: 'Eight',\n",
    "                9: 'Nine'\n",
    "            }\n",
    "            return switcher.get(num)\n",
    "\n",
    "        def two_less_20(num):\n",
    "            switcher = {\n",
    "                10: 'Ten',\n",
    "                11: 'Eleven',\n",
    "                12: 'Twelve',\n",
    "                13: 'Thirteen',\n",
    "                14: 'Fourteen',\n",
    "                15: 'Fifteen',\n",
    "                16: 'Sixteen',\n",
    "                17: 'Seventeen',\n",
    "                18: 'Eighteen',\n",
    "                19: 'Nineteen'\n",
    "            }\n",
    "            return switcher.get(num)\n",
    "        \n",
    "        def ten(num):\n",
    "            switcher = {\n",
    "                2: 'Twenty',\n",
    "                3: 'Thirty',\n",
    "                4: 'Forty',\n",
    "                5: 'Fifty',\n",
    "                6: 'Sixty',\n",
    "                7: 'Seventy',\n",
    "                8: 'Eighty',\n",
    "                9: 'Ninety'\n",
    "            }\n",
    "            return switcher.get(num)\n",
    "        \n",
    "\n",
    "        def two(num):\n",
    "            if not num:\n",
    "                return ''\n",
    "            elif num < 10:\n",
    "                return one(num)\n",
    "            elif num < 20:\n",
    "                return two_less_20(num)\n",
    "            else:\n",
    "                tenner = num // 10\n",
    "                rest = num - tenner * 10\n",
    "                return ten(tenner) + ' ' + one(rest) if rest else ten(tenner)\n",
    "        \n",
    "        def three(num):\n",
    "            hundred = num // 100\n",
    "            rest = num - hundred * 100\n",
    "            if hundred and rest:\n",
    "                return one(hundred) + ' Hundred ' + two(rest) \n",
    "            elif not hundred and rest: \n",
    "                return two(rest)\n",
    "            elif hundred and not rest:\n",
    "                return one(hundred) + ' Hundred'\n",
    "        \n",
    "        billion = num // 1000000000\n",
    "        million = (num - billion * 1000000000) // 1000000\n",
    "        thousand = (num - billion * 1000000000 - million * 1000000) // 1000\n",
    "        rest = num - billion * 1000000000 - million * 1000000 - thousand * 1000\n",
    "        \n",
    "        if not num:\n",
    "            return 'Zero'\n",
    "        \n",
    "        result = ''\n",
    "        if billion:        \n",
    "            result = three(billion) + ' Billion'\n",
    "        if million:\n",
    "            result += ' ' if result else ''    \n",
    "            result += three(million) + ' Million'\n",
    "        if thousand:\n",
    "            result += ' ' if result else ''\n",
    "            result += three(thousand) + ' Thousand'\n",
    "        if rest:\n",
    "            result += ' ' if result else ''\n",
    "            result += three(rest)\n",
    "        return result"
   ]
  },
  {
   "cell_type": "code",
   "execution_count": 65,
   "id": "40f502d2",
   "metadata": {},
   "outputs": [
    {
     "data": {
      "text/plain": [
       "'One Million Two Hundred Thirty Four Thousand Five Hundred Sixty Seven'"
      ]
     },
     "execution_count": 65,
     "metadata": {},
     "output_type": "execute_result"
    }
   ],
   "source": [
    "Solution().numberToWords(num = 1234567)"
   ]
  },
  {
   "cell_type": "markdown",
   "id": "bd377f25",
   "metadata": {},
   "source": [
    "## Q7. Merge String"
   ]
  },
  {
   "cell_type": "code",
   "execution_count": 68,
   "id": "e7cfebfa",
   "metadata": {},
   "outputs": [
    {
     "name": "stdout",
     "output_type": "stream",
     "text": [
      "abcd\n"
     ]
    }
   ],
   "source": [
    "def mergeString(s1, s2):\n",
    "    i = 0\n",
    "    j = 0\n",
    "    while i < len(s1):\n",
    "        while i < len(s1) and j < len(s2) and s1[i] == s2[j]:\n",
    "            i += 1\n",
    "            j += 1\n",
    "            if i == len(s1):\n",
    "                return s1 + s2[j:]\n",
    "        i += 1\n",
    "        j = 0\n",
    "    return False\n",
    "\n",
    "print(mergeString('abc', 'bcd'))"
   ]
  },
  {
   "cell_type": "markdown",
   "id": "65401a85",
   "metadata": {},
   "source": [
    "## Q8 - 75. Sort Colors"
   ]
  },
  {
   "cell_type": "code",
   "execution_count": 71,
   "id": "31dbbc6c",
   "metadata": {},
   "outputs": [],
   "source": [
    "class Solution:\n",
    "    def sortColors(self, nums: List[int]) -> None:\n",
    "        \"\"\"\n",
    "        Do not return anything, modify nums in-place instead.\n",
    "        \"\"\"\n",
    "        left = 0\n",
    "        right = len(nums) - 1\n",
    "        cur = 0\n",
    "        while cur <= right:\n",
    "            if nums[cur] == 0:\n",
    "                nums[cur], nums[left] = nums[left], nums[cur]\n",
    "                cur += 1\n",
    "                left += 1\n",
    "            elif nums[cur] == 2:\n",
    "                nums[cur], nums[right] = nums[right], nums[cur]\n",
    "                right -= 1\n",
    "            else:\n",
    "                cur += 1\n",
    "        print(nums)"
   ]
  },
  {
   "cell_type": "code",
   "execution_count": 72,
   "id": "6d31b5cf",
   "metadata": {},
   "outputs": [
    {
     "name": "stdout",
     "output_type": "stream",
     "text": [
      "[0, 0, 1, 1, 2, 2]\n"
     ]
    }
   ],
   "source": [
    "Solution().sortColors(nums = [2,0,2,1,1,0])"
   ]
  },
  {
   "cell_type": "markdown",
   "id": "3ac0ff67",
   "metadata": {},
   "source": [
    "## Q9 - 528. Random Pick with Weight "
   ]
  },
  {
   "cell_type": "code",
   "execution_count": 78,
   "id": "709e4345",
   "metadata": {},
   "outputs": [],
   "source": [
    "import numpy as np\n",
    "class Solution:\n",
    "\n",
    "    def __init__(self, w: List[int]):\n",
    "        self.w = w\n",
    "\n",
    "    def pickIndex(self) -> int:\n",
    "        return random.choices(range(len(self.w)), weights=self.w)[0]"
   ]
  },
  {
   "cell_type": "code",
   "execution_count": 81,
   "id": "05ba9c91",
   "metadata": {},
   "outputs": [],
   "source": [
    "class Solution:\n",
    "    def __init__(self, w: List[int]):\n",
    "        self.prefix_sums = []\n",
    "        prefix_sum = 0\n",
    "        for weight in w:\n",
    "            prefix_sum += weight\n",
    "            self.prefix_sums.append(prefix_sum)\n",
    "        self.total_sum = prefix_sum\n",
    "\n",
    "    def pickIndex(self) -> int:\n",
    "        target = self.total_sum * random.random()\n",
    "        # run a binary search to find the target zone\n",
    "        low, high = 0, len(self.prefix_sums)\n",
    "        while low < high:\n",
    "            mid = low + (high - low) // 2\n",
    "            if self.prefix_sums[mid] < target:\n",
    "                low = mid + 1\n",
    "            else:\n",
    "                high = mid\n",
    "        return low"
   ]
  },
  {
   "cell_type": "code",
   "execution_count": 82,
   "id": "5104dc2e",
   "metadata": {},
   "outputs": [
    {
     "data": {
      "text/plain": [
       "Counter({1: 74, 0: 26})"
      ]
     },
     "execution_count": 82,
     "metadata": {},
     "output_type": "execute_result"
    }
   ],
   "source": [
    "solution = Solution([1, 3]);\n",
    "res = [solution.pickIndex() for i in range(100)]\n",
    "collections.Counter(res)"
   ]
  },
  {
   "cell_type": "markdown",
   "id": "6ffd2fe6",
   "metadata": {},
   "source": [
    "## Q10 - 332. Reconstruct Itinerary"
   ]
  },
  {
   "cell_type": "code",
   "execution_count": null,
   "id": "78eef12b",
   "metadata": {},
   "outputs": [],
   "source": []
  },
  {
   "cell_type": "markdown",
   "id": "2fab83a4",
   "metadata": {},
   "source": [
    "## 1288. Remove Covered Intervals"
   ]
  },
  {
   "cell_type": "code",
   "execution_count": 14,
   "id": "96a5dd25",
   "metadata": {},
   "outputs": [],
   "source": [
    "from typing import List"
   ]
  },
  {
   "cell_type": "code",
   "execution_count": 22,
   "id": "a23c4c28",
   "metadata": {},
   "outputs": [],
   "source": [
    "# intervals = [[1,4],[3,6],[2,8]]\n",
    "intervals = [[1,2],[1,4],[3,4]]"
   ]
  },
  {
   "cell_type": "code",
   "execution_count": 27,
   "id": "168ec5e3",
   "metadata": {},
   "outputs": [],
   "source": [
    "def removeCoveredIntervals(intervals: List[List[int]]) -> int:\n",
    "    stack = []\n",
    "    intervals.sort(key=lambda x: (x[0], -x[1]))\n",
    "    print(intervals)\n",
    "    for interval in intervals:      \n",
    "        if stack:\n",
    "            x, y = stack[-1]\n",
    "            if x <= interval[0] and interval[1] <= y:\n",
    "                continue\n",
    "        stack.append(interval)\n",
    "    return len(stack)"
   ]
  },
  {
   "cell_type": "code",
   "execution_count": 28,
   "id": "b55e650e",
   "metadata": {},
   "outputs": [
    {
     "name": "stdout",
     "output_type": "stream",
     "text": [
      "[[1, 4], [1, 2], [3, 4]]\n"
     ]
    },
    {
     "data": {
      "text/plain": [
       "1"
      ]
     },
     "execution_count": 28,
     "metadata": {},
     "output_type": "execute_result"
    }
   ],
   "source": [
    "removeCoveredIntervals(intervals)"
   ]
  },
  {
   "cell_type": "markdown",
   "id": "9699165a",
   "metadata": {},
   "source": [
    "## 56. Merge Intervals"
   ]
  },
  {
   "cell_type": "code",
   "execution_count": 40,
   "id": "b7f684a1",
   "metadata": {},
   "outputs": [],
   "source": [
    "# intervals = [[1,3],[2,6],[8,10],[15,18]]\n",
    "intervals = [[1, 4], [2, 3]]"
   ]
  },
  {
   "cell_type": "code",
   "execution_count": 43,
   "id": "af05550e",
   "metadata": {},
   "outputs": [],
   "source": [
    "def merge(intervals: List[List[int]]) -> List[List[int]]:\n",
    "    stack = []\n",
    "    intervals.sort(key=lambda x: x[0])\n",
    "    for interval in intervals:\n",
    "        if stack:\n",
    "            x, y = stack[-1]\n",
    "            if x <= interval[0] <= y:\n",
    "                stack[-1][1] = max(y, interval[1])\n",
    "                continue\n",
    "        stack.append(interval)\n",
    "    return stack"
   ]
  },
  {
   "cell_type": "code",
   "execution_count": 44,
   "id": "21db4778",
   "metadata": {},
   "outputs": [
    {
     "data": {
      "text/plain": [
       "[[1, 4]]"
      ]
     },
     "execution_count": 44,
     "metadata": {},
     "output_type": "execute_result"
    }
   ],
   "source": [
    "merge(intervals)"
   ]
  },
  {
   "cell_type": "markdown",
   "id": "d19e8c71",
   "metadata": {},
   "source": [
    "## 1333. Filter Restaurants by Vegan-Friendly, Price and Distance"
   ]
  },
  {
   "cell_type": "code",
   "execution_count": 46,
   "id": "f6b60f3d",
   "metadata": {},
   "outputs": [],
   "source": [
    "def filterRestaurants(restaurants: List[List[int]], veganFriendly: int, maxPrice: int, maxDistance: int) -> List[int]:\n",
    "    filtered = []\n",
    "    for r in restaurants:\n",
    "        # apply filters\n",
    "        if r[2] >= veganFriendly and r[3] <= maxPrice and r[4] <= maxDistance:\n",
    "            filtered.append(r)\n",
    "    # sort filtered restaurants by rating (descending) and id (descending)\n",
    "    filtered.sort(key=lambda r: (-r[1], -r[0]))\n",
    "    # extract and return restaurant ids\n",
    "    return [r[0] for r in filtered]"
   ]
  },
  {
   "cell_type": "code",
   "execution_count": 47,
   "id": "b78a31e7",
   "metadata": {},
   "outputs": [],
   "source": [
    "restaurants = [[1,4,1,40,10],[2,8,0,50,5],[3,8,1,30,4],[4,10,0,10,3],[5,1,1,15,1]]\n",
    "veganFriendly = 1\n",
    "maxPrice = 50\n",
    "maxDistance = 10"
   ]
  },
  {
   "cell_type": "code",
   "execution_count": 48,
   "id": "bc8721fc",
   "metadata": {},
   "outputs": [
    {
     "data": {
      "text/plain": [
       "[3, 1, 5]"
      ]
     },
     "execution_count": 48,
     "metadata": {},
     "output_type": "execute_result"
    }
   ],
   "source": [
    "filterRestaurants(restaurants, veganFriendly, maxPrice, maxDistance)"
   ]
  },
  {
   "cell_type": "markdown",
   "id": "e62fb3e4",
   "metadata": {},
   "source": [
    "## 1436. Destination City"
   ]
  },
  {
   "cell_type": "code",
   "execution_count": 7,
   "id": "1ebfd96c",
   "metadata": {},
   "outputs": [],
   "source": [
    "from typing import List\n",
    "\n",
    "class Solution:\n",
    "    def destCity(self, paths: List[List[str]]) -> str:\n",
    "        A, B = map(set, zip(*paths))\n",
    "        return (B - A).pop()"
   ]
  },
  {
   "cell_type": "code",
   "execution_count": 8,
   "id": "5ab985de",
   "metadata": {},
   "outputs": [
    {
     "data": {
      "text/plain": [
       "'Sao Paulo'"
      ]
     },
     "execution_count": 8,
     "metadata": {},
     "output_type": "execute_result"
    }
   ],
   "source": [
    "Solution().destCity( paths = [[\"London\",\"New York\"],[\"New York\",\"Lima\"],[\"Lima\",\"Sao Paulo\"]])"
   ]
  },
  {
   "cell_type": "code",
   "execution_count": null,
   "id": "09f5e558",
   "metadata": {},
   "outputs": [],
   "source": [
    "When a user nevigates to a business page on yelp, we want to find other busineses ahta are most similar to the origin b"
   ]
  },
  {
   "cell_type": "markdown",
   "id": "07fc6db8",
   "metadata": {},
   "source": [
    "## Identify Chain Business"
   ]
  },
  {
   "cell_type": "code",
   "execution_count": 96,
   "id": "d74a0178",
   "metadata": {},
   "outputs": [],
   "source": [
    "from collections import defaultdict\n",
    "\n",
    "class Business:\n",
    "    def __init__(self, name, location, id):\n",
    "        self.name = name\n",
    "        self.location = location\n",
    "        self.id = id\n",
    "\n",
    "class Chain:\n",
    "    def __init__(self, name, frequency):\n",
    "        self.name = name\n",
    "        self.frequency = frequency\n",
    "\n",
    "def detect_and_order_chain_business(businesses, location):\n",
    "    chains = defaultdict(lambda: Chain(\"\", 0))\n",
    "\n",
    "    for business in businesses:\n",
    "        if business.location == location:\n",
    "            chain_name = business.name\n",
    "            chains[chain_name].name = chain_name\n",
    "            chains[chain_name].frequency += 1\n",
    "\n",
    "    sorted_chains = sorted(chains.values(), key=lambda x: (-x.frequency, x.name))\n",
    "    return sorted_chains\n",
    "\n",
    "def parse_stdin_and_get_input():\n",
    "    with open('input.txt', 'r') as f:\n",
    "        lines = [line.strip() for line in f.readlines()]\n",
    "        \n",
    "    businesses = []\n",
    "    target_location = lines[-1]\n",
    "    \n",
    "    for line in lines[:-1]:\n",
    "        name, location, id = line.split('-')\n",
    "        businesses.append(Business(name, location, id))\n",
    "    return businesses, target_location"
   ]
  },
  {
   "cell_type": "code",
   "execution_count": 101,
   "id": "7fbf66b0",
   "metadata": {},
   "outputs": [
    {
     "name": "stdout",
     "output_type": "stream",
     "text": [
      "McDonald's-4\n",
      "Subway-3\n",
      "Starbucks-2\n"
     ]
    }
   ],
   "source": [
    "# Test case 1\n",
    "businesses1 = [\n",
    "    Business(\"McDonald's\", \"New York\", \"1\"),\n",
    "    Business(\"Subway\", \"New York\", \"2\"),\n",
    "    Business(\"McDonald's\", \"New York\", \"1\"),\n",
    "    Business(\"Starbucks\", \"New York\", \"4\"),\n",
    "    Business(\"Subway\", \"New York\", \"5\"),\n",
    "    Business(\"Subway\", \"New York\", \"6\"),\n",
    "    Business(\"McDonald's\", \"New York\", \"1\"),\n",
    "    Business(\"Starbucks\", \"New York\", \"8\"),\n",
    "    Business(\"McDonald's\", \"New York\", \"9\")\n",
    "]\n",
    "location1 = \"New York\"\n",
    "expected_output1 = [\n",
    "    Chain(\"McDonald's\", 4),\n",
    "    Chain(\"Subway\", 2),\n",
    "    Chain(\"Starbucks\", 2)\n",
    "]\n",
    "sorted_chains = detect_and_order_chain_business(businesses1, location1)\n",
    "\n",
    "for chain in sorted_chains:\n",
    "    print(f'{chain.name}-{chain.frequency}')"
   ]
  },
  {
   "cell_type": "code",
   "execution_count": null,
   "id": "300c1ba0",
   "metadata": {},
   "outputs": [],
   "source": []
  },
  {
   "cell_type": "code",
   "execution_count": 2,
   "id": "75b8a8c9",
   "metadata": {},
   "outputs": [],
   "source": [
    "from typing import List"
   ]
  },
  {
   "cell_type": "code",
   "execution_count": 5,
   "id": "ab5185fc",
   "metadata": {},
   "outputs": [],
   "source": [
    "class Solution:\n",
    "    def kLengthApart(self, nums: List[int], k: int) -> bool:\n",
    "        cnt = 0\n",
    "        prev = -1\n",
    "        for idx, num in enumerate(nums):\n",
    "            if num == 0: \n",
    "                cnt += 1\n",
    "            else:\n",
    "                if prev != -1 and cnt < k:\n",
    "                    return False\n",
    "                prev = idx\n",
    "                cnt = 0\n",
    "        return True"
   ]
  },
  {
   "cell_type": "code",
   "execution_count": 6,
   "id": "2a2771f4",
   "metadata": {},
   "outputs": [],
   "source": []
  },
  {
   "cell_type": "markdown",
   "id": "e2fb09bc",
   "metadata": {},
   "source": [
    "## Segment String with Bigram"
   ]
  },
  {
   "cell_type": "markdown",
   "id": "9c2d9559",
   "metadata": {},
   "source": [
    "Question: segment a search string with a bigram dictionary\n",
    "input: \"I like ice coffee.\" dict = [\"ice coffee\", \"New York\"]\n",
    "output: [\"I\", \"like\", \"ice coffee\"]"
   ]
  },
  {
   "cell_type": "code",
   "execution_count": 89,
   "id": "801e411a",
   "metadata": {},
   "outputs": [],
   "source": [
    "def segment_string(search_string, bigram_dict):\n",
    "    bigram_set = set(bigram_dict)\n",
    "    words = search_string.strip('.').split()\n",
    "    segmented_words = []\n",
    "    i = 0\n",
    "    while i < len(words):\n",
    "        if i < len(words) - 1 and \" \".join(words[i:i+2]) in bigram_set:\n",
    "            segmented_words.append(\" \".join(words[i:i+2]))\n",
    "            i += 2\n",
    "        else:\n",
    "            segmented_words.append(words[i])\n",
    "            i += 1\n",
    "    return segmented_words"
   ]
  },
  {
   "cell_type": "code",
   "execution_count": 90,
   "id": "fea82942",
   "metadata": {},
   "outputs": [
    {
     "name": "stdout",
     "output_type": "stream",
     "text": [
      "['I', 'like', 'ice coffee']\n"
     ]
    }
   ],
   "source": [
    "search_string = \"I like ice coffee.\"\n",
    "bigram_dict = [\"ice coffee\", \"New York\"]\n",
    "segmented_words = segment_string(search_string, bigram_dict)\n",
    "print(segmented_words)"
   ]
  },
  {
   "cell_type": "markdown",
   "id": "aeaf965f",
   "metadata": {},
   "source": [
    "## Expand Bigram to Trigram"
   ]
  },
  {
   "cell_type": "code",
   "execution_count": 43,
   "id": "e640606f",
   "metadata": {},
   "outputs": [],
   "source": [
    "def expand_bigrams(words, bigrams):\n",
    "    # Split the input string into words\n",
    "    words = words.split()\n",
    "\n",
    "    # Initialize the output list with the words\n",
    "    output = words[:]\n",
    "\n",
    "    # Iterate over the bigrams and insert them into the output list\n",
    "    for bigram in bigrams:\n",
    "        # Find the index of the first word in the bigram\n",
    "        index = words.index(bigram[0])\n",
    "        # Insert the bigram after the first word\n",
    "        output[index+1:index+1] = bigram\n",
    "\n",
    "    # Initialize the list of trigrams\n",
    "    trigrams = []\n",
    "\n",
    "    # Iterate over the output list and generate trigrams\n",
    "    for i in range(len(output)-2):\n",
    "        trigram = output[i:i+3]\n",
    "        trigrams.append(trigram)\n",
    "\n",
    "    return trigrams"
   ]
  },
  {
   "cell_type": "code",
   "execution_count": 44,
   "id": "ed88f718",
   "metadata": {},
   "outputs": [
    {
     "name": "stdout",
     "output_type": "stream",
     "text": [
      "[['the', 'quick', 'quick'], ['quick', 'quick', 'brown'], ['quick', 'brown', 'brown'], ['brown', 'brown', 'jumps'], ['brown', 'jumps', 'over'], ['jumps', 'over', 'fox'], ['over', 'fox', 'jumps'], ['fox', 'jumps', 'over'], ['jumps', 'over', 'the'], ['over', 'the', 'lazy'], ['the', 'lazy', 'dog']]\n"
     ]
    }
   ],
   "source": [
    "words = \"the quick brown fox jumps over the lazy dog\"\n",
    "bigrams = [(\"quick\", \"brown\"), (\"jumps\", \"over\")]\n",
    "\n",
    "trigrams = expand_bigrams(words, bigrams)\n",
    "print(trigrams)"
   ]
  },
  {
   "cell_type": "markdown",
   "id": "16edb8f5",
   "metadata": {},
   "source": [
    "## Business Similarity"
   ]
  },
  {
   "cell_type": "markdown",
   "id": "05f738fa",
   "metadata": {},
   "source": [
    "When a user navigates to a business page on Yelp, we wantto find other businesses that are most similar to the origin business. We assin a similarilty score [0, 1, 0] to each of the other businesses, with 1.0 being the most similar to the origin business.\n",
    "\n",
    "Often at Yelp, we need to compute how similar pairs of strings are ( it can be reviews, names of businesses, categorites, ..). For two strings A and B, we want to compute their jaccard similarity index. The Jacccard similarity index is calculated by dividing the number of common distinct wrds by the total number of disctinct (unique) words.\n"
   ]
  },
  {
   "cell_type": "code",
   "execution_count": 9,
   "id": "1bd44892",
   "metadata": {},
   "outputs": [],
   "source": [
    "def jaccard_similarity(str1, str2):\n",
    "    # Tokenize the strings into words\n",
    "    words1 = set(str1.lower().split())\n",
    "    words2 = set(str2.lower().split())\n",
    "    \n",
    "    # Calculate the intersection and union of the two sets\n",
    "    intersection = len(words1.intersection(words2))\n",
    "    union = len(words1.union(words2))\n",
    "    \n",
    "    # Calculate the Jaccard similarity index\n",
    "    jaccard_index = intersection / union\n",
    "    \n",
    "    return jaccard_index"
   ]
  },
  {
   "cell_type": "code",
   "execution_count": 10,
   "id": "55c32ef0",
   "metadata": {},
   "outputs": [
    {
     "data": {
      "text/plain": [
       "0.6666666666666666"
      ]
     },
     "execution_count": 10,
     "metadata": {},
     "output_type": "execute_result"
    }
   ],
   "source": [
    "str1 = \"Roof Repair\"\n",
    "str2 = \"Larry's Roof repair\"\n",
    "jaccard_similarity(str1, str2)"
   ]
  },
  {
   "cell_type": "markdown",
   "id": "641daa1c",
   "metadata": {},
   "source": [
    "## Hourly error alerts"
   ]
  },
  {
   "cell_type": "markdown",
   "id": "0a557d44",
   "metadata": {},
   "source": [
    "给一个List<Integer>，里面是某个service的hourly error的次数，再给一个SLO configuration，包括threshold，duration，percent，如果一个service在duration时间内有above percent的时间error次数超过了threshold，就会send alert。写一个method判断是否会send alert。一开始是假设给的List size等于duration，只用计算一次，follow up是List size大于duration，算每个sliding window里是否trigger alert，返回alert的次数"
   ]
  },
  {
   "cell_type": "code",
   "execution_count": 11,
   "id": "07209104",
   "metadata": {},
   "outputs": [],
   "source": [
    "def is_alert_triggered(hourly_errors, threshold, duration, percent):\n",
    "    total_hours = len(hourly_errors)\n",
    "    window_errors = 0\n",
    "    window_start = 0\n",
    "    for i in range(total_hours):\n",
    "        window_errors += hourly_errors[i]\n",
    "        if i - window_start + 1 > duration:\n",
    "            window_errors -= hourly_errors[window_start]\n",
    "            window_start += 1\n",
    "        if (i - window_start + 1) == duration and (window_errors * 100 / duration) >= percent and window_errors >= threshold:\n",
    "            return True\n",
    "    return False"
   ]
  },
  {
   "cell_type": "markdown",
   "id": "869ea1ca",
   "metadata": {},
   "source": []
  },
  {
   "cell_type": "markdown",
   "id": "a8cf3792",
   "metadata": {},
   "source": [
    "## Business_review_suggestions"
   ]
  },
  {
   "cell_type": "code",
   "execution_count": 12,
   "id": "239a0fca",
   "metadata": {},
   "outputs": [],
   "source": [
    "def business_review_suggestions(lst, action_weights):\n",
    "    business_scores = {}\n",
    "    for business_id, action_type in lst:\n",
    "        if business_id in business_scores:\n",
    "            business_scores[business_id] += action_weights.get(action_type, 0)\n",
    "        else:\n",
    "            business_scores[business_id] = action_weights.get(action_type, 0)\n",
    "    sorted_business_scores = sorted(business_scores.items(), key=lambda x: x[1], reverse=True)\n",
    "    return [x[0] for x in sorted_business_scores]"
   ]
  },
  {
   "cell_type": "markdown",
   "id": "75b66880",
   "metadata": {},
   "source": [
    "## Find topic occurrences in reviews"
   ]
  },
  {
   "cell_type": "markdown",
   "id": "40b3ed05",
   "metadata": {},
   "source": [
    "You are given some topics, each contains some keywords, as well as a list of Yelp reviews on local businesses. Yoour job is to count the occurrence of each topic in the given reviews. That is, for each topic, find how many of the given reviews contain at leat 1 of the givne topic keywords.\n",
    "\n",
    "Input: \n",
    "- topics: A mapping of topic name to topic keyword list.\n",
    "- Reviews: reviews: A list of Yelp reviews.\n",
    "\n"
   ]
  },
  {
   "cell_type": "code",
   "execution_count": 17,
   "id": "d1f4acef",
   "metadata": {},
   "outputs": [],
   "source": [
    "topics = {\n",
    "    \"price\": [\"cheap\", \"expensive\", \"price\"],\n",
    "    \"Business specifalites\": [\"gnome\", \"genomes\"],\n",
    "    \"Harry Shrub\": [\"harry shrub\"]\n",
    "}"
   ]
  },
  {
   "cell_type": "code",
   "execution_count": 18,
   "id": "8c802587",
   "metadata": {},
   "outputs": [],
   "source": [
    "reviews = \"Harry Shrub did a great job with my garden, but I expected more genomes for the price\"\n",
    "reviews_list = reviews.split(\" \")"
   ]
  },
  {
   "cell_type": "code",
   "execution_count": 19,
   "id": "d1929715",
   "metadata": {},
   "outputs": [],
   "source": [
    "res = {}"
   ]
  },
  {
   "cell_type": "code",
   "execution_count": 26,
   "id": "d7151beb",
   "metadata": {},
   "outputs": [],
   "source": [
    "for key, value in topics.items():\n",
    "    res[key] = [True if word.strip() in reviews_list else False for word in value ]"
   ]
  },
  {
   "cell_type": "code",
   "execution_count": 23,
   "id": "ab7d8391",
   "metadata": {},
   "outputs": [
    {
     "name": "stdout",
     "output_type": "stream",
     "text": [
      "{'price': 1, 'Business specifalites': 1, 'Harry Shrub': 0}\n"
     ]
    }
   ],
   "source": [
    "print({k: sum(v) for k, v in res.items()})"
   ]
  },
  {
   "cell_type": "code",
   "execution_count": 25,
   "id": "a6a3cbe8",
   "metadata": {},
   "outputs": [
    {
     "data": {
      "text/plain": [
       "'abc'"
      ]
     },
     "execution_count": 25,
     "metadata": {},
     "output_type": "execute_result"
    }
   ],
   "source": [
    "\"abc   \".strip()"
   ]
  },
  {
   "cell_type": "markdown",
   "id": "1ce205f5",
   "metadata": {},
   "source": [
    "## Summarize Reviews"
   ]
  },
  {
   "cell_type": "code",
   "execution_count": 34,
   "id": "36fc025c",
   "metadata": {},
   "outputs": [],
   "source": [
    "def summarize_reviews(reviews):\n",
    "    if not reviews:\n",
    "        return None\n",
    "\n",
    "    user_stats = {}\n",
    "    for user_id, review, timestamp in reviews:\n",
    "        if user_id not in user_stats:\n",
    "            user_stats[user_id] = {'rates': [], 'timestamps': []}\n",
    "        user_stats[user_id]['rates'].append(review.rate)\n",
    "        user_stats[user_id]['timestamps'].append(timestamp)\n",
    "\n",
    "    summary_stats = []\n",
    "    for user_id, stats in user_stats.items():\n",
    "        # calculate the average rate\n",
    "        avg_rate = round(sum(stats['rates']) / len(stats['rates']) * 2) / 2\n",
    "\n",
    "        # round the average rate to the nearest 0.5\n",
    "        avg_rate = round(avg_rate * 2) / 2\n",
    "\n",
    "        # find the earliest and latest timestamps\n",
    "        earliest_timestamp = min(stats['timestamps'])\n",
    "        latest_timestamp = max(stats['timestamps'])\n",
    "\n",
    "        # add the summary stats to the list\n",
    "        summary_stats.append({\n",
    "            'user_id': user_id,\n",
    "            'average_rate': avg_rate,\n",
    "            'earliest_timestamp': earliest_timestamp,\n",
    "            'latest_timestamp': latest_timestamp,\n",
    "            'num_reviews': len(stats['rates'])\n",
    "        })\n",
    "\n",
    "    return summary_stats\n"
   ]
  },
  {
   "cell_type": "code",
   "execution_count": 32,
   "id": "90ee7c31",
   "metadata": {},
   "outputs": [
    {
     "data": {
      "text/plain": [
       "1.5"
      ]
     },
     "execution_count": 32,
     "metadata": {},
     "output_type": "execute_result"
    }
   ],
   "source": [
    "round((sum([1, 1, 2, 2,1])/len([1, 1, 2, 2,1]) * 4))/4"
   ]
  },
  {
   "cell_type": "code",
   "execution_count": 33,
   "id": "482cb7f9",
   "metadata": {},
   "outputs": [
    {
     "data": {
      "text/plain": [
       "1.4"
      ]
     },
     "execution_count": 33,
     "metadata": {},
     "output_type": "execute_result"
    }
   ],
   "source": [
    "sum([1, 1, 2, 2,1])/len([1, 1, 2, 2,1])"
   ]
  },
  {
   "cell_type": "code",
   "execution_count": 42,
   "id": "3fa0e136",
   "metadata": {},
   "outputs": [
    {
     "data": {
      "text/plain": [
       "4.5"
      ]
     },
     "execution_count": 42,
     "metadata": {},
     "output_type": "execute_result"
    }
   ],
   "source": [
    "round(4.33333*2)/2"
   ]
  },
  {
   "cell_type": "markdown",
   "id": "e8a21fd8",
   "metadata": {},
   "source": [
    "## Business Open Hours Ratio"
   ]
  },
  {
   "cell_type": "markdown",
   "id": "876e9b29",
   "metadata": {},
   "source": [
    "Inputs:\n",
    "\n",
    "    - Time ragne to query for a start and end time\n",
    "    - business open hours ( a list of ranges)\n",
    "    \n",
    "Outputs:\n",
    "\n",
    "    - The fraction of the query time range taht business is open. The percentage of the query time ragne in which the business is open. Return this number as a float. This function should Not do rounding."
   ]
  },
  {
   "cell_type": "code",
   "execution_count": 2,
   "id": "a4a26662",
   "metadata": {},
   "outputs": [],
   "source": [
    "def open_hours_ratio(query_time_range, open_hours):\n",
    "    import math\n",
    "    result = []\n",
    "\n",
    "    for hours in open_hours:\n",
    "        intersection_start = max(query_time_range.start, hours.start)\n",
    "        intersection_end = min(query_time_range.end, hours.end)\n",
    "        value = (intersection_end - intersection_start) / (query_time_range.end - query_time_range.start)\n",
    "        if value > 0:\n",
    "            result.append(value)\n",
    "        result.append(value)\n",
    "\n",
    "    return(math.fsum(result))"
   ]
  },
  {
   "cell_type": "code",
   "execution_count": 4,
   "id": "1741c729",
   "metadata": {},
   "outputs": [],
   "source": [
    "class Hours:\n",
    "    def __init__(self, start, end):\n",
    "        self.start = start\n",
    "        self.end = end\n",
    "\n",
    "def ratio_of_time_open(time_ranges, business_hours_ranges):\n",
    "    overlap = 0\n",
    "    time_ranges.sort(key=lambda r: r.start)\n",
    "    business_hours_ranges.sort(key=lambda r: r.start)\n",
    "    i = j = 0\n",
    "    n, m = len(time_ranges), len(business_hours_ranges)\n",
    "\n",
    "    while i < n and j < m:\n",
    "        range1 = time_ranges[i]\n",
    "        range2 = business_hours_ranges[j]\n",
    "\n",
    "        if range1.end <= range2.start:\n",
    "            i += 1\n",
    "        elif range1.start >= range2.end:\n",
    "            j += 1\n",
    "        else:\n",
    "            overlap_start = max(range1.start, range2.start)\n",
    "            overlap_end = min(range1.end, range2.end)\n",
    "            overlap += overlap_end - overlap_start\n",
    "            if range1.end <= range2.end:\n",
    "                i += 1\n",
    "            else:\n",
    "                j += 1\n",
    "\n",
    "    total_time_ranges = sum((range.end - range.start) for range in time_ranges)\n",
    "    if total_time_ranges == 0:\n",
    "        return 0\n",
    "    else:\n",
    "        return overlap / total_time_ranges"
   ]
  },
  {
   "cell_type": "code",
   "execution_count": null,
   "id": "0e9ec25e",
   "metadata": {},
   "outputs": [],
   "source": [
    "time_ranges1 = [Hours(9, 12), Hours(13, 16)]\n",
    "business_hours_ranges1 = [Hours(17, 20)]\n",
    "assert ratio_of_time_open(time_ranges1, business_hours_ranges1) == 0"
   ]
  },
  {
   "cell_type": "markdown",
   "id": "b0fdcdd8",
   "metadata": {},
   "source": [
    "## Active Business ids"
   ]
  },
  {
   "cell_type": "markdown",
   "id": "7e6b4d39",
   "metadata": {},
   "source": [
    "Given a list of user interaction events on Yelp, return a list of active business ids.\n",
    "\n",
    "A business is considered active if in at least two event types, it has a greater than ( or equal to) number of events thatn the average for the event type across all businesses. For example if there is no pare_view data for business 7, then 0 shuld'b e counted toward teh page_veiws average.\n",
    "\n",
    "Note 1: event type will never be repeated for the same biz id.\n",
    "Note 2: For computation of average, we would not econsider missing event types. For example, if business 2 has 11 pagewies, business 3 has 12 pageviews, and business 1 doesn't have an event for page vies, we treat the average number pageviws are (11+12)/2.\n",
    "\n",
    "Valid event ypes: photo_veis, ads, page_views, revies\n",
    "Return: List of all active biz ids sorted in ascending order of biz id"
   ]
  },
  {
   "cell_type": "markdown",
   "id": "fd3f1f88",
   "metadata": {},
   "source": [
    "Input:\n",
    "    \n",
    "    [Event('ads', 7, 3), \n",
    "    Event('ads', 8, 2), \n",
    "    Event('ads', 5, 1), \n",
    "    Event('page_views', 11, 2), \n",
    "    Event('page_view', 12, 3), \n",
    "    Event('photo_views', 10, 3),\n",
    "    Event('reviews', 7,2)\n",
    "    ]\n",
    "Output:\n",
    "[2, 3]"
   ]
  },
  {
   "cell_type": "code",
   "execution_count": 55,
   "id": "9e7698a1",
   "metadata": {},
   "outputs": [],
   "source": [
    "class Event:\n",
    "    def __init__(self, event_type, occurrences, biz_id):\n",
    "        self.event_type = event_type\n",
    "        self.occurrences = occurrences\n",
    "        self.biz_id = biz_id\n",
    "\n",
    "def active_biz(Events):\n",
    "    avg = {}\n",
    "    d = {}\n",
    "    for event in Events:\n",
    "        if event.biz_id not in d:\n",
    "            d[event.biz_id] = {event.event_type : event.occurrences}  \n",
    "        else:\n",
    "            d[event.biz_id][event.event_type] = event.occurrences\n",
    "        \n",
    "        if event.event_type not in avg:\n",
    "            avg[event.event_type] = [event.occurrences]\n",
    "        else:\n",
    "            avg[event.event_type].append(event.occurrences)\n",
    "    for k, v in avg.items():\n",
    "        avg[k] = sum(v)/len(v)\n",
    "    res = []   \n",
    "    for k, v in d.items():\n",
    "        cnt = 0\n",
    "        if 'ads' in v and v['ads'] > avg['ads']:\n",
    "            cnt += 1\n",
    "        if 'page_views' in v and v['page_views'] >= avg['page_views']:\n",
    "            cnt += 1            \n",
    "        if 'photo_views' in v and v['photo_views'] >= avg['photo_views']:\n",
    "            cnt += 1            \n",
    "        if 'reviews' in v and v['reviews'] >= avg['reviews']:\n",
    "            cnt += 1       \n",
    "        if cnt >= 2:\n",
    "            res.append(k) \n",
    "    return sorted(res)"
   ]
  },
  {
   "cell_type": "code",
   "execution_count": 72,
   "id": "8cc1e160",
   "metadata": {},
   "outputs": [],
   "source": [
    "from collections import defaultdict\n",
    "\n",
    "class Event:\n",
    "    def __init__(self, event_type, occurrences, biz_id):\n",
    "        self.event_type = event_type\n",
    "        self.occurrences = occurrences\n",
    "        self.biz_id = biz_id\n",
    "\n",
    "def active_biz(events):\n",
    "    d = defaultdict(lambda: defaultdict(int))\n",
    "    avg = defaultdict(int)\n",
    "    for event in events:\n",
    "        d[event.biz_id][event.event_type] += event.occurrences\n",
    "        avg[event.event_type] += event.occurrences\n",
    "    \n",
    "    for k, v in avg.items():\n",
    "        avg[k] /= len(events)\n",
    "    \n",
    "\n",
    "    res = []  \n",
    "    for k, v in d.items():\n",
    "        cnt = 0\n",
    "        for event_type, occurrences in v.items():\n",
    "            if occurrences >= avg[event_type]:\n",
    "                cnt += 1\n",
    "            if cnt >= 2:\n",
    "                res.append(k)\n",
    "                break\n",
    "    \n",
    "    return sorted(res)"
   ]
  },
  {
   "cell_type": "code",
   "execution_count": 73,
   "id": "f0cf6d94",
   "metadata": {},
   "outputs": [],
   "source": [
    "events = ([Event('ads', 7, 3), \n",
    "Event('ads', 8, 2), \n",
    "Event('ads', 5, 1), \n",
    "Event('page_views', 11, 2), \n",
    "Event('page_view', 12, 3), \n",
    "Event('photo_views', 10, 3),\n",
    "Event('reviews', 7,2)\n",
    "])"
   ]
  },
  {
   "cell_type": "code",
   "execution_count": 74,
   "id": "72a029f7",
   "metadata": {},
   "outputs": [
    {
     "data": {
      "text/plain": [
       "[2, 3]"
      ]
     },
     "execution_count": 74,
     "metadata": {},
     "output_type": "execute_result"
    }
   ],
   "source": [
    "active_biz(events)"
   ]
  },
  {
   "cell_type": "code",
   "execution_count": null,
   "id": "98a9eb0e",
   "metadata": {},
   "outputs": [],
   "source": []
  }
 ],
 "metadata": {
  "kernelspec": {
   "display_name": "Python 3 (ipykernel)",
   "language": "python",
   "name": "python3"
  },
  "language_info": {
   "codemirror_mode": {
    "name": "ipython",
    "version": 3
   },
   "file_extension": ".py",
   "mimetype": "text/x-python",
   "name": "python",
   "nbconvert_exporter": "python",
   "pygments_lexer": "ipython3",
   "version": "3.8.13"
  }
 },
 "nbformat": 4,
 "nbformat_minor": 5
}
